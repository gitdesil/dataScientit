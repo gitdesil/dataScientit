{
  "nbformat": 4,
  "nbformat_minor": 0,
  "metadata": {
    "colab": {
      "provenance": [],
      "collapsed_sections": [
        "C92Sw6tF6jhL",
        "JwL7I2h_7uWX",
        "fo30xjFo8HD1",
        "gHenYF4i8dEP"
      ],
      "include_colab_link": true
    },
    "kernelspec": {
      "name": "python3",
      "display_name": "Python 3"
    },
    "language_info": {
      "name": "python"
    }
  },
  "cells": [
    {
      "cell_type": "markdown",
      "metadata": {
        "id": "view-in-github",
        "colab_type": "text"
      },
      "source": [
        "<a href=\"https://colab.research.google.com/github/gitdesil/dataScientit/blob/main/Leccion_5_1_Sintaxis_b%C3%A1sica.ipynb\" target=\"_parent\"><img src=\"https://colab.research.google.com/assets/colab-badge.svg\" alt=\"Open In Colab\"/></a>"
      ]
    },
    {
      "cell_type": "markdown",
      "source": [
        "# Sintaxis Básica de Python para Data Science"
      ],
      "metadata": {
        "id": "JGjq9XAFdswv"
      }
    },
    {
      "cell_type": "markdown",
      "source": [
        "En esta notebook, aprenderemos los conceptos fundamentales de la sintaxis de Python, que son esenciales para cualquier aspirante a Data Scientist. Cubriremos temas como la declaración de variables, el uso de operadores, la implementación de estructuras de control de flujo, el manejo de comentarios y el lenguaje de texto. Estos conceptos son la base para comprender y escribir código Python de manera efectiva en proyectos de Data Science.\n",
        "\n",
        "\n",
        "Contenido:\n",
        "\n",
        "1.   Declaración de variables\n",
        "2.   Operadores\n",
        "3.   Estructuras de control de flujo\n",
        "4.   Comentarios y lenguaje de texto en Python\n",
        "\n"
      ],
      "metadata": {
        "id": "LUEF-BW2eKC8"
      }
    },
    {
      "cell_type": "markdown",
      "source": [
        "## 1. Declaración de variables\n",
        "\n"
      ],
      "metadata": {
        "id": "C92Sw6tF6jhL"
      }
    },
    {
      "cell_type": "code",
      "source": [
        "# @title Texto de título predeterminado"
      ],
      "metadata": {
        "id": "mhPnnnv3ddHg"
      },
      "execution_count": null,
      "outputs": []
    },
    {
      "cell_type": "markdown",
      "source": [],
      "metadata": {
        "id": "kfzCbgP4dBwA"
      }
    },
    {
      "cell_type": "code",
      "source": [
        "class Persona:\n",
        "    def __init__(self, nombre, edad):\n",
        "        self.nombre = nombre    # Atributo de instancia: nombre\n",
        "        self.edad = edad        # Atributo de instancia: edad\n",
        "\n",
        "    def saludar(self):\n",
        "        print(f\"Hola, mi nombre es {self.nombre} y tengo {self.edad} años.\")   # Método: saludar\n",
        "\n",
        "    def cumplir_anios(self):\n",
        "        self.edad += 1          # Método: cumplir_anios. Modifica el atributo de instancia: edad\n",
        "\n",
        "\n",
        "\n"
      ],
      "metadata": {
        "id": "7DYGhUvvlTLg"
      },
      "execution_count": null,
      "outputs": []
    },
    {
      "cell_type": "markdown",
      "source": [],
      "metadata": {
        "id": "MX0FE8QXlgyL"
      }
    },
    {
      "cell_type": "code",
      "source": [
        "# Creación de un objeto de la clase Persona\n",
        "persona1 = Persona(\"Juan\", 25)\n",
        "\n",
        "\n",
        "# Acceso a atributos de instancia\n",
        "print(persona1.nombre)  # Salida: Juan\n",
        "print(persona1.edad)    # Salida: 25\n",
        "\n",
        "# Llamada a un método\n",
        "persona1.saludar()      # Salida: Hola, mi nombre es Juan y tengo 25 años.\n",
        "\n",
        "# Modificación de un atributo de instancia a través de un método\n",
        "persona1.cumplir_anios()\n",
        "print(\"Juan cumplio\", persona1.edad)    # Salida: 26\n"
      ],
      "metadata": {
        "colab": {
          "base_uri": "https://localhost:8080/"
        },
        "id": "7u8asDjJlX0F",
        "outputId": "012c2e72-0ddb-4e17-ec62-1d9de22c4239"
      },
      "execution_count": null,
      "outputs": [
        {
          "output_type": "stream",
          "name": "stdout",
          "text": [
            "Juan\n",
            "25\n",
            "Hola, mi nombre es Juan y tengo 25 años.\n",
            "Juan cumplio 26\n"
          ]
        }
      ]
    },
    {
      "cell_type": "code",
      "source": [
        "# Declaración de tres variables con valores asignados\n",
        "nombre = \"Juan\"\n",
        "edad = 25\n",
        "altura = 1.75\n",
        "\n",
        "# Imprimir los valores de las variables\n",
        "print(\"Nombre:\", nombre)\n",
        "print(\"Edad:\", edad)\n",
        "print(\"Altura:\", altura)\n"
      ],
      "metadata": {
        "colab": {
          "base_uri": "https://localhost:8080/"
        },
        "id": "2WXD5jOuphtf",
        "outputId": "2d1a458d-c5d3-41bb-c31e-67af32b623e4"
      },
      "execution_count": null,
      "outputs": [
        {
          "output_type": "stream",
          "name": "stdout",
          "text": [
            "Nombre: Juan\n",
            "Edad: 25\n",
            "Altura: 1.75\n"
          ]
        }
      ]
    },
    {
      "cell_type": "code",
      "source": [
        "# Declaración de tres variables con valores asignados\n",
        "nombre = \"Juan\"\n",
        "edad = 25\n",
        "altura = 1.75\n"
      ],
      "metadata": {
        "id": "QMpBhQm-qG3i"
      },
      "execution_count": null,
      "outputs": []
    },
    {
      "cell_type": "markdown",
      "source": [
        "La declaracion de variables en Python se realiza utilizando el operador de asignación \"=\" y se puede realizar sin necesidad de especificar el tipo de dato, ya que Python lo supone segun la naturaleza del mismo."
      ],
      "metadata": {
        "id": "NmjTGA8Geaat"
      }
    },
    {
      "cell_type": "code",
      "source": [
        "nombre\n"
      ],
      "metadata": {
        "colab": {
          "base_uri": "https://localhost:8080/",
          "height": 35
        },
        "id": "ym26hL2fqOdx",
        "outputId": "c9af8b50-e82e-47eb-e68b-1e8f6ec3642f"
      },
      "execution_count": null,
      "outputs": [
        {
          "output_type": "execute_result",
          "data": {
            "text/plain": [
              "'Juan'"
            ],
            "application/vnd.google.colaboratory.intrinsic+json": {
              "type": "string"
            }
          },
          "metadata": {},
          "execution_count": 8
        }
      ]
    },
    {
      "cell_type": "code",
      "source": [
        "print(nombre, edad, altura)"
      ],
      "metadata": {
        "colab": {
          "base_uri": "https://localhost:8080/"
        },
        "id": "55tE15Y3qRN4",
        "outputId": "e56e5217-f20f-453e-fea4-c9065f3d9fb3"
      },
      "execution_count": null,
      "outputs": [
        {
          "output_type": "stream",
          "name": "stdout",
          "text": [
            "Juan 25 1.75\n"
          ]
        }
      ]
    },
    {
      "cell_type": "code",
      "source": [
        "x = 1\n",
        "y = \"Curso\"\n",
        "z= True"
      ],
      "metadata": {
        "id": "JClpjQG_590q"
      },
      "execution_count": null,
      "outputs": []
    },
    {
      "cell_type": "markdown",
      "source": [
        "Python tiene algunas reglas para nombrar las variables:\n",
        "\n",
        "*  Los nombres de las variables pueden comenzar con letras (a-z, A-Z) o con el carácter guion bajo (_).\n",
        "*  Los nombres de las variables deben ser únicos y no pueden ser una palabra reservada de Python:\n",
        "  * and: usado para la operación lógica \"y\".\n",
        "  * or: usado para la operación lógica \"o\".\n",
        "  * not: usado para la operación lógica \"no\".\n",
        "  * if: usado para definir una condición.\n",
        "  * else: usado en combinación con if para definir la alternativa a una condición.\n",
        "  * elif: abreviatura de \"else if\", usado para definir una condición adicional después de una primera condición.\n",
        "  * while: usado para crear un bucle que se ejecutará mientras se cumpla una condición.\n",
        "  * for: usado para crear un bucle que se ejecutará un número determinado de veces.\n",
        "  * in: usado para iterar sobre una secuencia, como una lista o una cadena.\n",
        "  * try: usado para manejar excepciones que puedan ocurrir durante la ejecución del programa.\n",
        "  * except: usado para definir lo que debe suceder si se produce una excepción.\n",
        "  * finally: usado para definir lo que debe suceder después de que se haya manejado una excepción.\n",
        "  * def: usado para definir una función.\n",
        "  * return: usado para devolver un valor desde una función.\n",
        "  * class: usado para definir una clase.\n",
        "\n",
        "* Es importante elegir nombres descriptivos para las variables que reflejan su propósito o contenido.\n",
        "* También es una buena práctica utilizar el estilo de nomenclatura de snake_case, donde las palabras están separadas por guiones bajos para hacer el código más legible.\n",
        "* Es útil pensar en las variables como contenedores de información. Su único propósito es etiquetar y almacenar datos en la memoria.\n"
      ],
      "metadata": {
        "id": "MUw5lYrm8yQE"
      }
    },
    {
      "cell_type": "code",
      "source": [
        "## Variables para almacenar información del usuario:"
      ],
      "metadata": {
        "id": "pPKIQIF3iOGo"
      },
      "execution_count": null,
      "outputs": []
    },
    {
      "cell_type": "code",
      "source": [
        "# Nombre del usuario\n",
        "nombre = \"Juan\"\n",
        "\n",
        "# Edad del usuario\n",
        "edad = 30\n",
        "\n",
        "# Correo electrónico del usuario\n",
        "correo = \"juan@example.com\"\n"
      ],
      "metadata": {
        "id": "GnrIJRbqiUR1"
      },
      "execution_count": null,
      "outputs": []
    },
    {
      "cell_type": "code",
      "source": [
        "# Variables para almacenar información de configuración:"
      ],
      "metadata": {
        "id": "lcUhTZrCiVx2"
      },
      "execution_count": null,
      "outputs": []
    },
    {
      "cell_type": "code",
      "source": [
        "# Dirección de la base de datos\n",
        "db_host = \"localhost\"\n",
        "db_port = 5432\n",
        "db_nombre = \"mydb\"\n",
        "\n",
        "# Clave de acceso a la API\n",
        "api_key = \"abcdefghijk12345\"\n",
        "\n",
        "# Configuración de conexión de red\n",
        "ip = \"192.168.1.100\"\n",
        "puerto = 8080\n",
        "\n"
      ],
      "metadata": {
        "id": "uZR1bW63iV2l"
      },
      "execution_count": null,
      "outputs": []
    },
    {
      "cell_type": "code",
      "source": [
        "#Variables para almacenar resultados o datos procesados:"
      ],
      "metadata": {
        "id": "QXWbRg09IPGq"
      },
      "execution_count": null,
      "outputs": []
    },
    {
      "cell_type": "code",
      "source": [
        "# Resultado de una consulta a la base de datos\n",
        "resultado_query = [{\"nombre\": \"Juan\", \"edad\": 30}, {\"nombre\": \"María\", \"edad\": 28}]\n",
        "\n",
        "# Cantidad de registros procesados\n",
        "registros_procesados = 1000\n",
        "\n",
        "# Total de ventas del mes\n",
        "ventas_mes = 15000.50\n",
        "\n",
        "# Datos de un cliente\n",
        "cliente = {\"nombre\": \"Juan\", \"edad\": 30, \"email\": \"juan@example.com\"}\n"
      ],
      "metadata": {
        "id": "QOOho8n6iV5l"
      },
      "execution_count": null,
      "outputs": []
    },
    {
      "cell_type": "code",
      "source": [
        "#Variables para almacenar constantes:"
      ],
      "metadata": {
        "id": "xbd1NY-pILc2"
      },
      "execution_count": null,
      "outputs": []
    },
    {
      "cell_type": "code",
      "source": [
        "# Estado de conexión a la base de datos\n",
        "conexion_db = True\n",
        "\n",
        "# Bandera de activación de funcionalidad\n",
        "activar_funcionalidad = False\n",
        "\n",
        "# Estado de un proceso en ejecución\n",
        "proceso_en_ejecucion = True\n",
        "\n",
        "# Estado de disponibilidad de un recurso\n",
        "recurso_disponible = False\n"
      ],
      "metadata": {
        "id": "JUkeRMLCiV8-"
      },
      "execution_count": null,
      "outputs": []
    },
    {
      "cell_type": "code",
      "source": [
        "#Variables para almacenar constantes:"
      ],
      "metadata": {
        "id": "ir3_bPxoIJx9"
      },
      "execution_count": null,
      "outputs": []
    },
    {
      "cell_type": "code",
      "source": [
        "# Valor máximo de una variable\n",
        "MAXIMO = 100\n",
        "\n",
        "# Valor mínimo de una variable\n",
        "MINIMO = 0\n",
        "\n",
        "# Tasa de impuesto\n",
        "TASA_IMPUESTO = 0.10\n",
        "\n",
        "# Valor de PI\n",
        "PI = 3.14159\n"
      ],
      "metadata": {
        "id": "8-8kUutdiV_0"
      },
      "execution_count": null,
      "outputs": []
    },
    {
      "cell_type": "markdown",
      "source": [
        "### Impresión de variables"
      ],
      "metadata": {
        "id": "9gam3gxA7Txy"
      }
    },
    {
      "cell_type": "code",
      "source": [
        "print(y)"
      ],
      "metadata": {
        "colab": {
          "base_uri": "https://localhost:8080/"
        },
        "id": "CyRx21Co7VQV",
        "outputId": "208c9f03-ca7e-40b7-8642-36a47b0c04f3"
      },
      "execution_count": null,
      "outputs": [
        {
          "output_type": "stream",
          "name": "stdout",
          "text": [
            "Curso\n"
          ]
        }
      ]
    },
    {
      "cell_type": "markdown",
      "source": [
        "## 2. Operadores: se utilizan para realizar operaciones en valores y variables. Los operadores incluyen \"+\" para la adición, \"-\" para la sustracción, \"*\" para la multiplicación, \"/\" para la división y \"%\" para el módulo (resto de la división)"
      ],
      "metadata": {
        "id": "JwL7I2h_7uWX"
      }
    },
    {
      "cell_type": "markdown",
      "source": [
        "Operadores matematicas"
      ],
      "metadata": {
        "id": "sMGr4OoMNHGg"
      }
    },
    {
      "cell_type": "code",
      "source": [
        "a = 5\n",
        "b = 3\n",
        "\n",
        "suma = a + b\n",
        "resta = a - b\n",
        "multiplicacion = a * b\n",
        "division = a / b\n",
        "modulo = a % b\n",
        "exponente = a ** b\n",
        "\n",
        "print(\"Suma:\", suma)\n",
        "print(\"Resta:\", resta)\n",
        "print(\"Multiplicación:\", multiplicacion)\n",
        "print(\"División:\", division)\n",
        "print(\"Módulo:\", modulo)\n",
        "print(\"Exponente:\", exponente)\n"
      ],
      "metadata": {
        "id": "XdAn_1nH7wLU",
        "colab": {
          "base_uri": "https://localhost:8080/"
        },
        "outputId": "a70ff75d-67ce-4503-b647-10848c9f3244"
      },
      "execution_count": null,
      "outputs": [
        {
          "output_type": "stream",
          "name": "stdout",
          "text": [
            "Suma: 8\n",
            "Resta: 2\n",
            "Multiplicación: 15\n",
            "División: 1.6666666666666667\n",
            "Módulo: 2\n",
            "Exponente: 125\n"
          ]
        }
      ]
    },
    {
      "cell_type": "markdown",
      "source": [
        "Operadores de comparacion"
      ],
      "metadata": {
        "id": "tgsWakfyNXu9"
      }
    },
    {
      "cell_type": "code",
      "source": [
        "a = 5\n",
        "b = 3\n",
        "\n",
        "igual = a == b\n",
        "diferente = a != b\n",
        "mayor_que = a > b\n",
        "menor_que = a < b\n",
        "mayor_o_igual_que = a >= b\n",
        "menor_o_igual_que = a <= b\n",
        "\n",
        "print(\"Igual a:\", igual)\n",
        "print(\"Diferente de:\", diferente)\n",
        "print(\"Mayor que:\", mayor_que)\n",
        "print(\"Menor que:\", menor_que)\n",
        "print(\"Mayor o igual que:\", mayor_o_igual_que)\n",
        "print(\"Menor o igual que:\", menor_o_igual_que)\n"
      ],
      "metadata": {
        "colab": {
          "base_uri": "https://localhost:8080/"
        },
        "id": "DGZIIvCtNVc2",
        "outputId": "5f512276-9867-46cf-d262-7b279d1f51eb"
      },
      "execution_count": null,
      "outputs": [
        {
          "output_type": "stream",
          "name": "stdout",
          "text": [
            "Igual a: False\n",
            "Diferente de: True\n",
            "Mayor que: True\n",
            "Menor que: False\n",
            "Mayor o igual que: True\n",
            "Menor o igual que: False\n"
          ]
        }
      ]
    },
    {
      "cell_type": "markdown",
      "source": [
        "Operadores lógicos:"
      ],
      "metadata": {
        "id": "sbdtFPbpNij6"
      }
    },
    {
      "cell_type": "code",
      "source": [
        "a = True\n",
        "b = False\n",
        "\n",
        "and_logico = a and b\n",
        "or_logico = a or b\n",
        "not_logico = not a\n",
        "\n",
        "print(\"AND lógico:\", and_logico)\n",
        "print(\"OR lógico:\", or_logico)\n",
        "print(\"NOT lógico:\", not_logico)\n"
      ],
      "metadata": {
        "colab": {
          "base_uri": "https://localhost:8080/"
        },
        "id": "SsF1eABLNmRW",
        "outputId": "4cbca39c-795c-4773-fa8b-44bbbaebb8f2"
      },
      "execution_count": null,
      "outputs": [
        {
          "output_type": "stream",
          "name": "stdout",
          "text": [
            "AND lógico: False\n",
            "OR lógico: True\n",
            "NOT lógico: False\n"
          ]
        }
      ]
    },
    {
      "cell_type": "markdown",
      "source": [
        "Operadores de asignación:"
      ],
      "metadata": {
        "id": "PM9VhtP8NnKU"
      }
    },
    {
      "cell_type": "code",
      "source": [
        "a = 5\n",
        "b = 3\n",
        "\n",
        "a += b\n",
        "print(\"Asignación con suma:\", a)\n",
        "\n",
        "a -= b\n",
        "print(\"Asignación con resta:\", a)\n",
        "\n",
        "a *= b\n",
        "print(\"Asignación con multiplicación:\", a)\n",
        "\n",
        "a /= b\n",
        "print(\"Asignación con división:\", a)\n"
      ],
      "metadata": {
        "colab": {
          "base_uri": "https://localhost:8080/"
        },
        "id": "V2bUBes4NtkC",
        "outputId": "b4bef905-2657-4376-86cb-178b8508c0f1"
      },
      "execution_count": null,
      "outputs": [
        {
          "output_type": "stream",
          "name": "stdout",
          "text": [
            "Asignación con suma: 8\n",
            "Asignación con resta: 5\n",
            "Asignación con multiplicación: 15\n",
            "Asignación con división: 5.0\n"
          ]
        }
      ]
    },
    {
      "cell_type": "markdown",
      "source": [
        "##3. Estructuras de control de flujo: se utilizan para tomar decisiones en función de si se cumple o no una condición. Se escriben utilizando las palabras clave \"if\", \"elif\" y \"else\".\n",
        "##Python utiliza indentación para delimitar bloques de código en lugar de llaves como en otros lenguajes.\n",
        "\n",
        "\n",
        "## **¿Indentar?**\n",
        "\n",
        "## Indentación: En el lenguaje de programación Python, la indentación se utiliza para estructurar el código en bloques y definir la jerarquía entre ellos. A diferencia de otros lenguajes de programación que utilizan llaves o palabras clave para definir bloques de código, Python utiliza la indentación.La indentación en Python no solo es una cuestión de organización y estilo, sino que es un requisito del lenguaje. Si la indentación no se realiza correctamente, el código no funcionará de manera adecuada o puede generar errores."
      ],
      "metadata": {
        "id": "fo30xjFo8HD1"
      }
    },
    {
      "cell_type": "code",
      "source": [
        "if x > 5:\n",
        "    print(\"x es mayor que 5\")\n",
        "elif x == 5:\n",
        "    print(\"x es igual a 5\")\n",
        "else:\n",
        "    print(\"x es menor que 5\")\n"
      ],
      "metadata": {
        "colab": {
          "base_uri": "https://localhost:8080/"
        },
        "id": "rXlU4vCS7_HG",
        "outputId": "c197702e-3898-45af-ab33-4ab14d07930a"
      },
      "execution_count": null,
      "outputs": [
        {
          "output_type": "stream",
          "name": "stdout",
          "text": [
            "x es mayor que 5\n"
          ]
        }
      ]
    },
    {
      "cell_type": "markdown",
      "source": [
        "##4. Comentarios de una línea: Se crean utilizando el símbolo al principio de una línea. Todo lo que esté después del símbolo en esa línea será considerado como un comentario y no será ejecutado por el intérprete de Python.\n",
        "\n",
        "## Ejemplo de comentario de una línea:"
      ],
      "metadata": {
        "id": "gHenYF4i8dEP"
      }
    },
    {
      "cell_type": "code",
      "source": [
        "# Esto es un comentario de una línea en Python\n",
        "\n"
      ],
      "metadata": {
        "id": "wc24OEHLg3-9"
      },
      "execution_count": null,
      "outputs": []
    },
    {
      "cell_type": "code",
      "source": [
        "# Este es un comentario de una línea\n",
        "a = 5\n",
        "b = 3\n",
        "\n",
        "suma = a + b  # Esto es una suma\n",
        "print(\"Suma:\", suma)\n"
      ],
      "metadata": {
        "colab": {
          "base_uri": "https://localhost:8080/"
        },
        "id": "T48_QkLIOJW6",
        "outputId": "c6d9839d-1c9a-4cdc-bbb3-9b57b87b642b"
      },
      "execution_count": null,
      "outputs": [
        {
          "output_type": "stream",
          "name": "stdout",
          "text": [
            "Suma: 8\n"
          ]
        }
      ]
    },
    {
      "cell_type": "markdown",
      "source": [
        "## 1.  Es importante utilizar comentarios de forma adecuada para hacer el código más legible y comprensible. Algunas buenas prácticas para el uso de comentarios en Python son:\n",
        "\n",
        "## 2. Utilizar comentarios para explicar el propósito o la funcionalidad de un bloque de código.\n",
        "## 3. Evitar comentarios innecesarios o comentarios obvios que no aporten información adicional.\n",
        "## 4. Mantener los comentarios actualizados a medida que se realiza cambios en el código.\n",
        "## 5. Evitar comentarios largos o confusos, y en su lugar, escribir comentarios breves y concisos.\n",
        "## 6. Escribir comentarios en inglés, que es el idioma predominante en la comunidad de programadores."
      ],
      "metadata": {
        "id": "KsE-6Gtrh17Q"
      }
    }
  ]
}